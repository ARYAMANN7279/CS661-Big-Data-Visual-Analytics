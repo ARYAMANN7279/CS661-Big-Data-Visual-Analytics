{
 "cells": [
  {
   "cell_type": "code",
   "execution_count": 106,
   "id": "a6c5c549-3c2d-48c4-afae-4c317baedcd2",
   "metadata": {},
   "outputs": [
    {
     "data": {
      "application/vnd.jupyter.widget-view+json": {
       "model_id": "bfa6aea2b4da4b4e9382a0884ab878e6",
       "version_major": 2,
       "version_minor": 0
      },
      "text/plain": [
       "IntSlider(value=0)"
      ]
     },
     "execution_count": 106,
     "metadata": {},
     "output_type": "execute_result"
    }
   ],
   "source": [
    "#importing dependencies\n",
    "\n",
    "import numpy as np\n",
    "import vtk\n",
    "from vtk.util.numpy_support import vtk_to_numpy\n",
    "import plotly.graph_objects as go\n",
    "import ipywidgets as widgets\n",
    "from IPython.display import display, clear_output\n",
    "import ipywidgets as widgets\n",
    "\n",
    "#creating widget object\n",
    "widgets.IntSlider()"
   ]
  },
  {
   "cell_type": "code",
   "execution_count": 107,
   "id": "dc42d56e-5037-4126-8349-62bb7f83b9f9",
   "metadata": {},
   "outputs": [],
   "source": [
    "#storing path of data\n",
    "\n",
    "file_path = \"/Users/aryamannsrivastava/Desktop/IMPORTANT/CS661/Assignment2/mixture.vti\""
   ]
  },
  {
   "cell_type": "code",
   "execution_count": 108,
   "id": "2a078b9a-634c-4992-bf1c-5dbc9565914b",
   "metadata": {},
   "outputs": [],
   "source": [
    "#loading the .vti file using VTK and converting the 3D scalar volume into a NumPy array for visualization\n",
    "\n",
    "reader = vtk.vtkXMLImageDataReader()\n",
    "reader.SetFileName(file_path)\n",
    "reader.Update()\n",
    "\n",
    "image_data = reader.GetOutput()\n",
    "point_data = image_data.GetPointData().GetScalars()\n",
    "\n",
    "scalars = vtk_to_numpy(point_data)\n",
    "dims = image_data.GetDimensions()\n",
    "volume = scalars.reshape(dims, order='F')\n",
    "fs = volume.flatten()\n",
    "dmin, dmax = fs.min(), fs.max()\n",
    "\n",
    "X,Y,Z = np.mgrid[0:dims[0], 0:dims[1], 0:dims[2]]"
   ]
  },
  {
   "cell_type": "code",
   "execution_count": 109,
   "id": "cd930ff4-35a2-4a0b-8321-e6220b819af8",
   "metadata": {},
   "outputs": [],
   "source": [
    "#defining all the plotting functions\n",
    "\n",
    "def plot_isosurface(val):\n",
    "    fig = go.Figure(data=[\n",
    "        go.Isosurface(\n",
    "            x=X.flatten(),\n",
    "            y=Y.flatten(),\n",
    "            z=Z.flatten(),\n",
    "            value=fs,\n",
    "            isomin=val,\n",
    "            isomax=val,\n",
    "            surface_count=1,\n",
    "            colorscale='plasma',\n",
    "            cmin=dmin,\n",
    "            cmax=dmax,\n",
    "            caps=dict(x_show=False, y_show=False, z_show=False),\n",
    "            showscale=True\n",
    "        )\n",
    "    ])\n",
    "    fig.update_layout(\n",
    "        title=f\"Isosurface at isovalue = {val:.2f}\",\n",
    "        scene=dict(aspectmode=\"data\"),\n",
    "        margin=dict(l=0, r=0, b=0, t=30)\n",
    "    )\n",
    "    return fig\n",
    "\n",
    "def plot_histogram(val=None):\n",
    "    if val is None:\n",
    "        hdata = fs\n",
    "        title = \"Histogram of Entire Volume\"\n",
    "    else:\n",
    "        lo, hi = val - 0.25, val + 0.25\n",
    "        hdata = fs[(fs >= lo) & (fs <= hi)]\n",
    "        title = f\"Histogram for values in [{lo:.2f}, {hi:.2f}]\"\n",
    "    fig = go.Figure(data=[\n",
    "        go.Histogram(x=hdata, nbinsx=40, marker_color='blue')\n",
    "    ])\n",
    "    fig.update_layout(\n",
    "        title=title,\n",
    "        xaxis_title=\"Scalar Value\",\n",
    "        yaxis_title=\"Frequency\",\n",
    "        margin=dict(l=0, r=0, b=0, t=30)\n",
    "    )\n",
    "    return fig"
   ]
  },
  {
   "cell_type": "code",
   "execution_count": 110,
   "id": "0c59e691-f0e4-4401-a768-7de4deeb729d",
   "metadata": {},
   "outputs": [],
   "source": [
    "#creating the slider widget\n",
    "\n",
    "slider = widgets.FloatSlider(\n",
    "    value=0.0,\n",
    "    min=dmin,\n",
    "    max=dmax,\n",
    "    step=0.01,\n",
    "    description='Isovalue:',\n",
    "    continuous_update=False,\n",
    "    layout=widgets.Layout(width='95%')\n",
    ")"
   ]
  },
  {
   "cell_type": "code",
   "execution_count": 111,
   "id": "1e5cc308-c75f-49d2-95aa-69bc5bd0b384",
   "metadata": {},
   "outputs": [],
   "source": [
    "#creating reset button and 2 output areas, one for isosurface and one for histogram plots\n",
    "\n",
    "reset_btn = widgets.Button(description=\"Reset\", button_style='warning')\n",
    "out1 = widgets.Output()\n",
    "out2 = widgets.Output()"
   ]
  },
  {
   "cell_type": "code",
   "execution_count": null,
   "id": "3354b4b8-57bd-4cc4-a15b-94066374d757",
   "metadata": {},
   "outputs": [],
   "source": [
    "#defining the update and reset functions\n",
    "\n",
    "def update(change=None):\n",
    "    val = slider.value\n",
    "    with out1:\n",
    "        clear_output(wait=True)\n",
    "        plot_isosurface(val).show()\n",
    "    with out2:\n",
    "        clear_output(wait=True)\n",
    "        plot_histogram(val).show()\n",
    "\n",
    "def reset(_):\n",
    "    slider.value = 0.0\n",
    "\n",
    "#connecting the slider and the reset button to their callbacks and laying out interface using horizontal blocks\n",
    "\n",
    "slider.observe(update, names='value')\n",
    "reset_btn.on_click(reset)\n",
    "\n",
    "display(widgets.HBox([slider, reset_btn]))\n",
    "display(widgets.HBox([out1, out2]))\n",
    "\n",
    "#calling update() once initially to display the default plots(isovalue=0.0):\n",
    "\n",
    "update()"
   ]
  }
 ],
 "metadata": {
  "kernelspec": {
   "display_name": "Python 3 (ipykernel)",
   "language": "python",
   "name": "python3"
  },
  "language_info": {
   "codemirror_mode": {
    "name": "ipython",
    "version": 3
   },
   "file_extension": ".py",
   "mimetype": "text/x-python",
   "name": "python",
   "nbconvert_exporter": "python",
   "pygments_lexer": "ipython3",
   "version": "3.12.7"
  }
 },
 "nbformat": 4,
 "nbformat_minor": 5
}
